{
 "cells": [
  {
   "cell_type": "code",
   "execution_count": 2,
   "id": "3f8b5637",
   "metadata": {},
   "outputs": [],
   "source": [
    "#Import necessary packages\n",
    "import pandas as pd\n",
    "import numpy as np\n",
    "import matplotlib.pyplot as plt\n",
    "%matplotlib inline\n",
    "import os\n",
    "import seaborn as sns\n",
    "sns.set()"
   ]
  },
  {
   "cell_type": "code",
   "execution_count": 5,
   "id": "28484957",
   "metadata": {},
   "outputs": [
    {
     "name": "stdout",
     "output_type": "stream",
     "text": [
      "(1000, 16)\n",
      "There are 1000 rows and 16 columns in the training dataframe\n"
     ]
    },
    {
     "data": {
      "text/html": [
       "<div>\n",
       "<style scoped>\n",
       "    .dataframe tbody tr th:only-of-type {\n",
       "        vertical-align: middle;\n",
       "    }\n",
       "\n",
       "    .dataframe tbody tr th {\n",
       "        vertical-align: top;\n",
       "    }\n",
       "\n",
       "    .dataframe thead th {\n",
       "        text-align: right;\n",
       "    }\n",
       "</style>\n",
       "<table border=\"1\" class=\"dataframe\">\n",
       "  <thead>\n",
       "    <tr style=\"text-align: right;\">\n",
       "      <th></th>\n",
       "      <th>Image</th>\n",
       "      <th>Atelectasis</th>\n",
       "      <th>Cardiomegaly</th>\n",
       "      <th>Consolidation</th>\n",
       "      <th>Edema</th>\n",
       "      <th>Effusion</th>\n",
       "      <th>Emphysema</th>\n",
       "      <th>Fibrosis</th>\n",
       "      <th>Hernia</th>\n",
       "      <th>Infiltration</th>\n",
       "      <th>Mass</th>\n",
       "      <th>Nodule</th>\n",
       "      <th>PatientId</th>\n",
       "      <th>Pleural_Thickening</th>\n",
       "      <th>Pneumonia</th>\n",
       "      <th>Pneumothorax</th>\n",
       "    </tr>\n",
       "  </thead>\n",
       "  <tbody>\n",
       "    <tr>\n",
       "      <th>0</th>\n",
       "      <td>00008270_015.png</td>\n",
       "      <td>0</td>\n",
       "      <td>0</td>\n",
       "      <td>0</td>\n",
       "      <td>0</td>\n",
       "      <td>0</td>\n",
       "      <td>0</td>\n",
       "      <td>0</td>\n",
       "      <td>0</td>\n",
       "      <td>0</td>\n",
       "      <td>0</td>\n",
       "      <td>0</td>\n",
       "      <td>8270</td>\n",
       "      <td>0</td>\n",
       "      <td>0</td>\n",
       "      <td>0</td>\n",
       "    </tr>\n",
       "    <tr>\n",
       "      <th>1</th>\n",
       "      <td>00029855_001.png</td>\n",
       "      <td>1</td>\n",
       "      <td>0</td>\n",
       "      <td>0</td>\n",
       "      <td>0</td>\n",
       "      <td>1</td>\n",
       "      <td>0</td>\n",
       "      <td>0</td>\n",
       "      <td>0</td>\n",
       "      <td>1</td>\n",
       "      <td>0</td>\n",
       "      <td>0</td>\n",
       "      <td>29855</td>\n",
       "      <td>0</td>\n",
       "      <td>0</td>\n",
       "      <td>0</td>\n",
       "    </tr>\n",
       "    <tr>\n",
       "      <th>2</th>\n",
       "      <td>00001297_000.png</td>\n",
       "      <td>0</td>\n",
       "      <td>0</td>\n",
       "      <td>0</td>\n",
       "      <td>0</td>\n",
       "      <td>0</td>\n",
       "      <td>0</td>\n",
       "      <td>0</td>\n",
       "      <td>0</td>\n",
       "      <td>0</td>\n",
       "      <td>0</td>\n",
       "      <td>0</td>\n",
       "      <td>1297</td>\n",
       "      <td>1</td>\n",
       "      <td>0</td>\n",
       "      <td>0</td>\n",
       "    </tr>\n",
       "    <tr>\n",
       "      <th>3</th>\n",
       "      <td>00012359_002.png</td>\n",
       "      <td>0</td>\n",
       "      <td>0</td>\n",
       "      <td>0</td>\n",
       "      <td>0</td>\n",
       "      <td>0</td>\n",
       "      <td>0</td>\n",
       "      <td>0</td>\n",
       "      <td>0</td>\n",
       "      <td>0</td>\n",
       "      <td>0</td>\n",
       "      <td>0</td>\n",
       "      <td>12359</td>\n",
       "      <td>0</td>\n",
       "      <td>0</td>\n",
       "      <td>0</td>\n",
       "    </tr>\n",
       "    <tr>\n",
       "      <th>4</th>\n",
       "      <td>00017951_001.png</td>\n",
       "      <td>0</td>\n",
       "      <td>0</td>\n",
       "      <td>0</td>\n",
       "      <td>0</td>\n",
       "      <td>0</td>\n",
       "      <td>0</td>\n",
       "      <td>0</td>\n",
       "      <td>0</td>\n",
       "      <td>1</td>\n",
       "      <td>0</td>\n",
       "      <td>0</td>\n",
       "      <td>17951</td>\n",
       "      <td>0</td>\n",
       "      <td>0</td>\n",
       "      <td>0</td>\n",
       "    </tr>\n",
       "  </tbody>\n",
       "</table>\n",
       "</div>"
      ],
      "text/plain": [
       "              Image  Atelectasis  Cardiomegaly  Consolidation  Edema  \\\n",
       "0  00008270_015.png            0             0              0      0   \n",
       "1  00029855_001.png            1             0              0      0   \n",
       "2  00001297_000.png            0             0              0      0   \n",
       "3  00012359_002.png            0             0              0      0   \n",
       "4  00017951_001.png            0             0              0      0   \n",
       "\n",
       "   Effusion  Emphysema  Fibrosis  Hernia  Infiltration  Mass  Nodule  \\\n",
       "0         0          0         0       0             0     0       0   \n",
       "1         1          0         0       0             1     0       0   \n",
       "2         0          0         0       0             0     0       0   \n",
       "3         0          0         0       0             0     0       0   \n",
       "4         0          0         0       0             1     0       0   \n",
       "\n",
       "   PatientId  Pleural_Thickening  Pneumonia  Pneumothorax  \n",
       "0       8270                   0          0             0  \n",
       "1      29855                   0          0             0  \n",
       "2       1297                   1          0             0  \n",
       "3      12359                   0          0             0  \n",
       "4      17951                   0          0             0  "
      ]
     },
     "execution_count": 5,
     "metadata": {},
     "output_type": "execute_result"
    }
   ],
   "source": [
    "#Loading the Data\n",
    "#Read csv file containing training data\n",
    "train_df = pd.read_csv(\"data/nih/train-small.csv\")\n",
    "print(train_df.shape)\n",
    "#Print 1st 5 rows\n",
    "print(f\"There are {train_df.shape[0]} rows and {train_df.shape[1]} columns in the training dataframe\")\n",
    "train_df.head()"
   ]
  },
  {
   "cell_type": "code",
   "execution_count": 6,
   "id": "a873f7d2",
   "metadata": {},
   "outputs": [
    {
     "name": "stdout",
     "output_type": "stream",
     "text": [
      "(109, 16)\n",
      "There are 109 rows and 16 columns in the validation dataframe\n"
     ]
    },
    {
     "data": {
      "text/html": [
       "<div>\n",
       "<style scoped>\n",
       "    .dataframe tbody tr th:only-of-type {\n",
       "        vertical-align: middle;\n",
       "    }\n",
       "\n",
       "    .dataframe tbody tr th {\n",
       "        vertical-align: top;\n",
       "    }\n",
       "\n",
       "    .dataframe thead th {\n",
       "        text-align: right;\n",
       "    }\n",
       "</style>\n",
       "<table border=\"1\" class=\"dataframe\">\n",
       "  <thead>\n",
       "    <tr style=\"text-align: right;\">\n",
       "      <th></th>\n",
       "      <th>Image</th>\n",
       "      <th>Atelectasis</th>\n",
       "      <th>Cardiomegaly</th>\n",
       "      <th>Consolidation</th>\n",
       "      <th>Edema</th>\n",
       "      <th>Effusion</th>\n",
       "      <th>Emphysema</th>\n",
       "      <th>Fibrosis</th>\n",
       "      <th>Hernia</th>\n",
       "      <th>Infiltration</th>\n",
       "      <th>Mass</th>\n",
       "      <th>Nodule</th>\n",
       "      <th>PatientId</th>\n",
       "      <th>Pleural_Thickening</th>\n",
       "      <th>Pneumonia</th>\n",
       "      <th>Pneumothorax</th>\n",
       "    </tr>\n",
       "  </thead>\n",
       "  <tbody>\n",
       "    <tr>\n",
       "      <th>0</th>\n",
       "      <td>00027623_007.png</td>\n",
       "      <td>0</td>\n",
       "      <td>0</td>\n",
       "      <td>0</td>\n",
       "      <td>1</td>\n",
       "      <td>1</td>\n",
       "      <td>0</td>\n",
       "      <td>0</td>\n",
       "      <td>0</td>\n",
       "      <td>0</td>\n",
       "      <td>0</td>\n",
       "      <td>0</td>\n",
       "      <td>27623</td>\n",
       "      <td>0</td>\n",
       "      <td>0</td>\n",
       "      <td>0</td>\n",
       "    </tr>\n",
       "    <tr>\n",
       "      <th>1</th>\n",
       "      <td>00028214_000.png</td>\n",
       "      <td>0</td>\n",
       "      <td>0</td>\n",
       "      <td>0</td>\n",
       "      <td>0</td>\n",
       "      <td>0</td>\n",
       "      <td>0</td>\n",
       "      <td>0</td>\n",
       "      <td>0</td>\n",
       "      <td>0</td>\n",
       "      <td>0</td>\n",
       "      <td>0</td>\n",
       "      <td>28214</td>\n",
       "      <td>0</td>\n",
       "      <td>0</td>\n",
       "      <td>0</td>\n",
       "    </tr>\n",
       "    <tr>\n",
       "      <th>2</th>\n",
       "      <td>00022764_014.png</td>\n",
       "      <td>0</td>\n",
       "      <td>0</td>\n",
       "      <td>0</td>\n",
       "      <td>0</td>\n",
       "      <td>0</td>\n",
       "      <td>0</td>\n",
       "      <td>0</td>\n",
       "      <td>0</td>\n",
       "      <td>0</td>\n",
       "      <td>0</td>\n",
       "      <td>0</td>\n",
       "      <td>22764</td>\n",
       "      <td>0</td>\n",
       "      <td>0</td>\n",
       "      <td>0</td>\n",
       "    </tr>\n",
       "    <tr>\n",
       "      <th>3</th>\n",
       "      <td>00020649_001.png</td>\n",
       "      <td>1</td>\n",
       "      <td>0</td>\n",
       "      <td>0</td>\n",
       "      <td>0</td>\n",
       "      <td>1</td>\n",
       "      <td>0</td>\n",
       "      <td>0</td>\n",
       "      <td>0</td>\n",
       "      <td>0</td>\n",
       "      <td>0</td>\n",
       "      <td>0</td>\n",
       "      <td>20649</td>\n",
       "      <td>0</td>\n",
       "      <td>0</td>\n",
       "      <td>0</td>\n",
       "    </tr>\n",
       "    <tr>\n",
       "      <th>4</th>\n",
       "      <td>00022283_023.png</td>\n",
       "      <td>0</td>\n",
       "      <td>0</td>\n",
       "      <td>0</td>\n",
       "      <td>0</td>\n",
       "      <td>0</td>\n",
       "      <td>0</td>\n",
       "      <td>0</td>\n",
       "      <td>0</td>\n",
       "      <td>0</td>\n",
       "      <td>0</td>\n",
       "      <td>0</td>\n",
       "      <td>22283</td>\n",
       "      <td>0</td>\n",
       "      <td>0</td>\n",
       "      <td>0</td>\n",
       "    </tr>\n",
       "  </tbody>\n",
       "</table>\n",
       "</div>"
      ],
      "text/plain": [
       "              Image  Atelectasis  Cardiomegaly  Consolidation  Edema  \\\n",
       "0  00027623_007.png            0             0              0      1   \n",
       "1  00028214_000.png            0             0              0      0   \n",
       "2  00022764_014.png            0             0              0      0   \n",
       "3  00020649_001.png            1             0              0      0   \n",
       "4  00022283_023.png            0             0              0      0   \n",
       "\n",
       "   Effusion  Emphysema  Fibrosis  Hernia  Infiltration  Mass  Nodule  \\\n",
       "0         1          0         0       0             0     0       0   \n",
       "1         0          0         0       0             0     0       0   \n",
       "2         0          0         0       0             0     0       0   \n",
       "3         1          0         0       0             0     0       0   \n",
       "4         0          0         0       0             0     0       0   \n",
       "\n",
       "   PatientId  Pleural_Thickening  Pneumonia  Pneumothorax  \n",
       "0      27623                   0          0             0  \n",
       "1      28214                   0          0             0  \n",
       "2      22764                   0          0             0  \n",
       "3      20649                   0          0             0  \n",
       "4      22283                   0          0             0  "
      ]
     },
     "execution_count": 6,
     "metadata": {},
     "output_type": "execute_result"
    }
   ],
   "source": [
    "#Read csv file containing validation data\n",
    "valid_df = pd.read_csv(\"data/nih/valid-small.csv\")\n",
    "print(valid_df.shape)\n",
    "#Print first 5 rows\n",
    "print(f\"There are {valid_df.shape[0]} rows and {valid_df.shape[1]} columns in the validation dataframe\")\n",
    "valid_df.head()"
   ]
  },
  {
   "cell_type": "markdown",
   "id": "e86d77e9",
   "metadata": {},
   "source": [
    "##### Extracting Patient IDs\n"
   ]
  },
  {
   "cell_type": "code",
   "execution_count": 7,
   "id": "0d25dc86",
   "metadata": {},
   "outputs": [],
   "source": [
    "#Extract patient id's for the training set\n",
    "ids_train = train_df.PatientId.values\n",
    "#Extract patient id's for the validation set\n",
    "ids_valid = valid_df.PatientId.values"
   ]
  },
  {
   "cell_type": "markdown",
   "id": "688a70c7",
   "metadata": {},
   "source": [
    "##### Comparing PatientIDs for Train & Validation sets"
   ]
  },
  {
   "cell_type": "code",
   "execution_count": 8,
   "id": "a5488bb6",
   "metadata": {},
   "outputs": [
    {
     "name": "stdout",
     "output_type": "stream",
     "text": [
      "There are 928 unique PatientIDs in the training set\n",
      "There are 97 unique PatientIDs in the validation set\n"
     ]
    }
   ],
   "source": [
    "#Converting array of numbers into set() datatypes for easy comparison\n",
    "ids_train_set = set(ids_train)\n",
    "print(f\"There are {len(ids_train_set)} unique PatientIDs in the training set\")\n",
    "ids_valid_set = set(ids_valid)\n",
    "print(f\"There are {len(ids_valid_set)} unique PatientIDs in the validation set\")"
   ]
  },
  {
   "cell_type": "code",
   "execution_count": 10,
   "id": "ac2a8537",
   "metadata": {},
   "outputs": [
    {
     "name": "stdout",
     "output_type": "stream",
     "text": [
      "There are 11 PatientIDs in both training and validation set\n",
      "\n",
      "These patients are in both training and validation datasets\n",
      "[20290, 27618, 9925, 10888, 22764, 19981, 18253, 4461, 28208, 8760, 7482]\n"
     ]
    }
   ],
   "source": [
    "# identify Patient overlap in the intersction of 2 sets\n",
    "patient_overlap = list(ids_train_set.intersection(ids_valid_set))\n",
    "n_overlap = len(patient_overlap)\n",
    "\n",
    "print(f\"There are {n_overlap} PatientIDs in both training and validation set\")\n",
    "print('')\n",
    "print(f\"These patients are in both training and validation datasets\")\n",
    "print(f\"{patient_overlap}\")"
   ]
  },
  {
   "cell_type": "code",
   "execution_count": 12,
   "id": "e364ad23",
   "metadata": {},
   "outputs": [
    {
     "name": "stdout",
     "output_type": "stream",
     "text": [
      "These are the indices of overlapping patients in the training set:\n",
      "[306, 186, 797, 98, 408, 917, 327, 913, 10, 51, 276]\n",
      "These are the indices of overlapping patients in the validation set:\n",
      "[104, 88, 65, 13, 2, 41, 56, 70, 26, 75, 20, 52, 55]\n"
     ]
    }
   ],
   "source": [
    "#Identifying & Removing overlapping patients\n",
    "train_overlap_idx = []\n",
    "valid_overlap_idx = []\n",
    "\n",
    "for idx in range(n_overlap):\n",
    "    #If the 'PatientId' of the current patient matches any 'PatientId' in the training dataset, the code appends the index of that patient in the training dataset to the train_overlap_idxs list.\n",
    "    train_overlap_idx.extend(train_df.index[train_df['PatientId'] == patient_overlap[idx].tolist()])\n",
    "    valid_overlap_idx.extend(valid_df.index[valid_df['PatientId'] == patient_overlap[idx].tolist()])\n",
    "    \n",
    "print(f\"These are the indices of overlapping patients in the training set:\")\n",
    "print(f\"{train_overlap_idx}\")\n",
    "print(f\"These are the indices of overlapping patients in the validation set:\")\n",
    "print(f\"{valid_overlap_idx}\")"
   ]
  },
  {
   "cell_type": "code",
   "execution_count": 13,
   "id": "f5b15d5f",
   "metadata": {},
   "outputs": [],
   "source": [
    "#Drop the overlapping rows from the validation set\n",
    "valid_df.drop(valid_overlap_idx,inplace=True)"
   ]
  },
  {
   "cell_type": "markdown",
   "id": "57432c66",
   "metadata": {},
   "source": [
    "###### Sanity Check"
   ]
  },
  {
   "cell_type": "code",
   "execution_count": 14,
   "id": "a60235e0",
   "metadata": {},
   "outputs": [
    {
     "name": "stdout",
     "output_type": "stream",
     "text": [
      "There are 86 unique Patient IDs in the validation set\n"
     ]
    }
   ],
   "source": [
    "ids_valid = valid_df.PatientId.values\n",
    "ids_valid_set = set(ids_valid)\n",
    "print(f\"There are {len(ids_valid_set)} unique Patient IDs in the validation set\")"
   ]
  },
  {
   "cell_type": "code",
   "execution_count": 15,
   "id": "f3758607",
   "metadata": {},
   "outputs": [
    {
     "name": "stdout",
     "output_type": "stream",
     "text": [
      "There are 0 Patient IDs in both training and validation sets\n"
     ]
    }
   ],
   "source": [
    "#Identify patient overlap\n",
    "patient_overlap = list(ids_train_set.intersection(ids_valid_set))\n",
    "n_overlap = len(patient_overlap)\n",
    "print(f\"There are {n_overlap} Patient IDs in both training and validation sets\")"
   ]
  },
  {
   "cell_type": "code",
   "execution_count": null,
   "id": "72cab4a4",
   "metadata": {},
   "outputs": [],
   "source": []
  }
 ],
 "metadata": {
  "kernelspec": {
   "display_name": "Python 3 (ipykernel)",
   "language": "python",
   "name": "python3"
  },
  "language_info": {
   "codemirror_mode": {
    "name": "ipython",
    "version": 3
   },
   "file_extension": ".py",
   "mimetype": "text/x-python",
   "name": "python",
   "nbconvert_exporter": "python",
   "pygments_lexer": "ipython3",
   "version": "3.11.5"
  }
 },
 "nbformat": 4,
 "nbformat_minor": 5
}
